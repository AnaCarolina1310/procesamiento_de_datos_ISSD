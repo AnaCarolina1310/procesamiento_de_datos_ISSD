{
 "cells": [
  {
   "cell_type": "code",
   "execution_count": 1,
   "metadata": {
    "id": "D9SRh-eDdpWp"
   },
   "outputs": [],
   "source": [
    "from sklearn.feature_extraction.text import TfidfVectorizer\n",
    "from sklearn.metrics.pairwise import cosine_similarity\n",
    "import spacy\n",
    "import pandas as pd"
   ]
  },
  {
   "cell_type": "markdown",
   "metadata": {},
   "source": [
    "### 1) Elaborar un dataset de preguntas y respuestas para crear un Chatbot para un aplicación particular."
   ]
  },
  {
   "cell_type": "code",
   "execution_count": 2,
   "metadata": {},
   "outputs": [
    {
     "data": {
      "text/html": [
       "<div>\n",
       "<style scoped>\n",
       "    .dataframe tbody tr th:only-of-type {\n",
       "        vertical-align: middle;\n",
       "    }\n",
       "\n",
       "    .dataframe tbody tr th {\n",
       "        vertical-align: top;\n",
       "    }\n",
       "\n",
       "    .dataframe thead th {\n",
       "        text-align: right;\n",
       "    }\n",
       "</style>\n",
       "<table border=\"1\" class=\"dataframe\">\n",
       "  <thead>\n",
       "    <tr style=\"text-align: right;\">\n",
       "      <th></th>\n",
       "      <th>Pregunta</th>\n",
       "      <th>Respuesta</th>\n",
       "    </tr>\n",
       "  </thead>\n",
       "  <tbody>\n",
       "    <tr>\n",
       "      <th>0</th>\n",
       "      <td>¿Como puedo solicitar o hacer seguimiento de m...</td>\n",
       "      <td>Es posible que tengas derecho al reembolso. Si...</td>\n",
       "    </tr>\n",
       "    <tr>\n",
       "      <th>1</th>\n",
       "      <td>¿Cuál es el equipaje permitido?</td>\n",
       "      <td>Por cuestiones de seguridad existen ciertas li...</td>\n",
       "    </tr>\n",
       "    <tr>\n",
       "      <th>2</th>\n",
       "      <td>¿Qué reservas puedo cambiar online?</td>\n",
       "      <td>Se pueden realizar cambios de fecha en todas l...</td>\n",
       "    </tr>\n",
       "  </tbody>\n",
       "</table>\n",
       "</div>"
      ],
      "text/plain": [
       "                                            Pregunta  \\\n",
       "0  ¿Como puedo solicitar o hacer seguimiento de m...   \n",
       "1                    ¿Cuál es el equipaje permitido?   \n",
       "2                ¿Qué reservas puedo cambiar online?   \n",
       "\n",
       "                                           Respuesta  \n",
       "0  Es posible que tengas derecho al reembolso. Si...  \n",
       "1  Por cuestiones de seguridad existen ciertas li...  \n",
       "2  Se pueden realizar cambios de fecha en todas l...  "
      ]
     },
     "execution_count": 2,
     "metadata": {},
     "output_type": "execute_result"
    }
   ],
   "source": [
    "df=pd.read_excel('preguntas-respuestas.xlsx')\n",
    "df.head(3)"
   ]
  },
  {
   "cell_type": "markdown",
   "metadata": {},
   "source": [
    "###  2) Crear el chatbot utilizando TFIDF y similitud del coseno."
   ]
  },
  {
   "cell_type": "code",
   "execution_count": 3,
   "metadata": {},
   "outputs": [],
   "source": [
    "vectorizer_agencia = TfidfVectorizer()\n",
    "tfidf_matrix = vectorizer_agencia.fit_transform(df['Pregunta'])"
   ]
  },
  {
   "cell_type": "code",
   "execution_count": 4,
   "metadata": {},
   "outputs": [],
   "source": [
    "def responder_pregunta(consulta_usuario):\n",
    "    consulta_vec = vectorizer_agencia.transform([consulta_usuario])\n",
    "    similitudes = cosine_similarity(consulta_vec, tfidf_matrix).flatten()\n",
    "    print(similitudes)\n",
    "    indice_mejor_coincidencia = similitudes.argmax()\n",
    "    print(indice_mejor_coincidencia)\n",
    "    return df['Respuesta'][indice_mejor_coincidencia]\n",
    " "
   ]
  },
  {
   "cell_type": "code",
   "execution_count": 5,
   "metadata": {},
   "outputs": [
    {
     "name": "stdout",
     "output_type": "stream",
     "text": [
      "[0.11854842 0.18232138 0.62664211 0.10340829 0.14637087 0.05650839\n",
      " 0.21394124 0.07562619 0.06366248 0.         0.        ]\n",
      "2\n",
      "Se pueden realizar cambios de fecha en todas las reservas con tramos de ida o ida y vuelta excepto tramos multidestinos generadas en aerolineas.com. En nuestras sucursales y Call Center (excepto tickets emitidos en Brasil y Chile).\n"
     ]
    }
   ],
   "source": [
    "consulta = \"¿Qué reservas es posible cambiar de fecha?\"\n",
    "print(responder_pregunta(consulta))"
   ]
  },
  {
   "cell_type": "markdown",
   "metadata": {},
   "source": [
    "### 3) Crear otro chatbot utilizando embeddings. Indique cuál embedding pre-entrenado eligió."
   ]
  },
  {
   "cell_type": "code",
   "execution_count": 6,
   "metadata": {},
   "outputs": [],
   "source": [
    "nlp = spacy.load(\"es_core_news_md\")"
   ]
  },
  {
   "cell_type": "code",
   "execution_count": 7,
   "metadata": {},
   "outputs": [],
   "source": [
    "preguntas= [nlp(pregunta) for pregunta in df['Pregunta']]"
   ]
  },
  {
   "cell_type": "code",
   "execution_count": 8,
   "metadata": {},
   "outputs": [],
   "source": [
    "def consul_emb(consulta):\n",
    "    consulta=nlp(consulta)\n",
    "    similitudes = [pregunta.similarity(consulta) for pregunta in preguntas]\n",
    "    print(similitudes)\n",
    "    mejor_respuesta = df['Respuesta'][similitudes.index(max(similitudes))]\n",
    "    return mejor_respuesta"
   ]
  },
  {
   "cell_type": "code",
   "execution_count": 9,
   "metadata": {},
   "outputs": [
    {
     "name": "stdout",
     "output_type": "stream",
     "text": [
      "[0.5867151351517318, 0.5737322659452583, 0.706471439796241, 0.6126360769339564, 0.7012249586272455, 0.8045942964889908, 0.6758986861898805, 0.8651269787486385, 0.5486669945470013, 0.5952350091821499, 0.664373743416445]\n",
      "Puedes llevar animales domesticos. Reservá el servicio 72 horas antes de la salida de tu vuelo por WhatsApp +54 911 4940-4798 o al Contact Center +54 (11) 5199 3555.\n"
     ]
    }
   ],
   "source": [
    "consulta=\"¿Qué animales se pueden llevar en bodega?\"\n",
    "print(consul_emb(consulta))"
   ]
  }
 ],
 "metadata": {
  "accelerator": "GPU",
  "colab": {
   "gpuType": "T4",
   "private_outputs": true,
   "provenance": []
  },
  "kernelspec": {
   "display_name": "Python 3",
   "name": "python3"
  },
  "language_info": {
   "codemirror_mode": {
    "name": "ipython",
    "version": 3
   },
   "file_extension": ".py",
   "mimetype": "text/x-python",
   "name": "python",
   "nbconvert_exporter": "python",
   "pygments_lexer": "ipython3",
   "version": "3.12.1"
  }
 },
 "nbformat": 4,
 "nbformat_minor": 0
}
